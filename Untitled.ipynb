{
 "cells": [
  {
   "cell_type": "code",
   "execution_count": 1,
   "id": "d5096084-00e7-4de3-9959-02d145bf31f9",
   "metadata": {},
   "outputs": [],
   "source": [
    "import tkinter as tk\n",
    "from time import strftime\n",
    "\n",
    "# Create the main application window\n",
    "root = tk.Tk()\n",
    "root.title(\"Digital Clock\")\n",
    "root.geometry(\"400x200\")\n",
    "root.configure(bg=\"black\")\n",
    "\n",
    "# Add a label to display the clock\n",
    "label = tk.Label(root, font=(\"Arial\", 48), bg=\"black\", fg=\"cyan\")\n",
    "label.pack(pady=50)\n",
    "\n",
    "# Function to update time\n",
    "def update_time():\n",
    "    current_time = strftime('%H:%M:%S %p')\n",
    "    label.config(text=current_time)\n",
    "    label.after(1000, update_time)\n",
    "\n",
    "# Start the clock\n",
    "update_time()\n",
    "root.mainloop()\n"
   ]
  },
  {
   "cell_type": "code",
   "execution_count": null,
   "id": "bebd3d0e-e23d-4acf-9492-14266f7ebf5b",
   "metadata": {},
   "outputs": [],
   "source": []
  }
 ],
 "metadata": {
  "kernelspec": {
   "display_name": "Python 3 (ipykernel)",
   "language": "python",
   "name": "python3"
  },
  "language_info": {
   "codemirror_mode": {
    "name": "ipython",
    "version": 3
   },
   "file_extension": ".py",
   "mimetype": "text/x-python",
   "name": "python",
   "nbconvert_exporter": "python",
   "pygments_lexer": "ipython3",
   "version": "3.11.5"
  }
 },
 "nbformat": 4,
 "nbformat_minor": 5
}
